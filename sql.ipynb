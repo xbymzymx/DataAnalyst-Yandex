{
 "cells": [
  {
   "cell_type": "markdown",
   "metadata": {},
   "source": [
    "# SQL. Сервис для чтения книг"
   ]
  },
  {
   "cell_type": "markdown",
   "metadata": {},
   "source": [
    "# Описание данных и условие задачи"
   ]
  },
  {
   "cell_type": "markdown",
   "metadata": {},
   "source": [
    "Коронавирус застал мир врасплох, изменив привычный порядок вещей. В свободное время жители городов больше не выходят на улицу, не посещают кафе и торговые центры. Зато теперь они могут уделять больше времени книгам. На это обратили внимание стартаперы, которые бросились создавать новые приложения для тех, кто любит читать.<br>\n",
    "Ваша компания решила быть на волне и купила крупный сервис для чтения книг по подписке.\n",
    "\n",
    "<b>Задача</b> - проанализировать базу данных.\n",
    "\n",
    "<i>Таблица</i> `books`\n",
    "\n",
    "Содержит данные о книгах.<br>\n",
    "\n",
    "- `book_id` — идентификатор книги;\n",
    "- `author_id` — идентификатор автора;\n",
    "- `title` — название книги;\n",
    "- `num_pages` — количество страниц;\n",
    "- `publication_date` — дата публикации книги;\n",
    "- `publisher_id` — идентификатор издателя.\n",
    "<br>\n",
    "\n",
    "<i>Таблица</i> `authors`\n",
    "\n",
    "Содержит данные об авторах.<br>\n",
    "\n",
    "- `author_id` — идентификатор автора;\n",
    "- `author` — имя автора.\n",
    "<br>\n",
    "\n",
    "<i>Таблица</i> `publishers`\n",
    "\n",
    "Содержит данные об издательствах.<br>\n",
    "\n",
    "- `publisher_id` — идентификатор издательства;\n",
    "- `publisher` — название издательства;\n",
    "<br>\n",
    "\n",
    "<i>Таблица</i> `ratings`\n",
    "\n",
    "Содержит данные о пользовательских оценках книг.<br>\n",
    "\n",
    "- `rating_id` — идентификатор оценки;\n",
    "- `book_id` — идентификатор книги;\n",
    "- `username` — имя пользователя, оставившего оценку;\n",
    "- `rating` — оценка книги.\n",
    "<br>\n",
    "\n",
    "<i>Таблица</i> `reviews`\n",
    "\n",
    "Содержит данные о пользовательских обзорах на книги.<br>\n",
    "\n",
    "- `review_id` — идентификатор обзора;\n",
    "- `book_id` — идентификатор книги;\n",
    "- `username` — имя пользователя, написавшего обзор;\n",
    "- `text` — текст обзора.\n",
    "<br>\n",
    "\n",
    "<img src=\"https://concrete-web-bad.notion.site/image/https%3A%2F%2Fs3-us-west-2.amazonaws.com%2Fsecure.notion-static.com%2F069818d1-0e5c-4d87-a461-0de584ab9c33%2FUntitled_(33).png?id=bd53c8db-b4fd-49eb-8cc9-572ebb3c9163&table=block&spaceId=9e4bd47b-c6e6-4ca3-bcee-279794b47315&width=1640&userId=&cache=v2\" width=700/>\n",
    "\n",
    "<br>\n",
    "<b>Задания:</b><br>\n",
    "- Посчитайте, сколько книг вышло после 1 января 2000 года;<br>\n",
    "- Для каждой книги посчитайте количество обзоров и среднюю оценку;<br>\n",
    "- Определите издательство, которое выпустило наибольшее число книг толще 50 страниц — так вы исключите из анализа брошюры;<br>\n",
    "- Определите автора с самой высокой средней оценкой книг — учитывайте только книги с 50 и более оценками;<br>\n",
    "- Посчитайте среднее количество обзоров от пользователей, которые поставили больше 50 оценок.<br>"
   ]
  },
  {
   "cell_type": "code",
   "execution_count": 1,
   "metadata": {},
   "outputs": [],
   "source": [
    "import pandas as pd\n",
    "from sqlalchemy import create_engine"
   ]
  },
  {
   "cell_type": "code",
   "execution_count": 2,
   "metadata": {},
   "outputs": [],
   "source": [
    "db_config = {'user': 'praktikum_student', # имя пользователя\n",
    "            'pwd': 'Sdf4$2;d-d30pp', # пароль\n",
    "            'host': 'rc1b-wcoijxj3yxfsf3fs.mdb.yandexcloud.net',\n",
    "            'port': 6432, # порт подключения\n",
    "            'db': 'data-analyst-final-project-db'} # название базы данных\n",
    "\n",
    "connection_string = 'postgresql://{}:{}@{}:{}/{}'.format(db_config['user'],\n",
    "                                                db_config['pwd'],\n",
    "                                                db_config['host'],\n",
    "                                                db_config['port'],\n",
    "                                                db_config['db'])\n",
    "\n",
    "engine = create_engine(connection_string, connect_args={'sslmode':'require'})"
   ]
  },
  {
   "cell_type": "markdown",
   "metadata": {},
   "source": [
    "# Исследование таблиц"
   ]
  },
  {
   "cell_type": "markdown",
   "metadata": {},
   "source": [
    "## books"
   ]
  },
  {
   "cell_type": "code",
   "execution_count": 3,
   "metadata": {},
   "outputs": [],
   "source": [
    "query = '''\n",
    "            SELECT *\n",
    "            FROM books\n",
    "        '''\n",
    "books = pd.io.sql.read_sql(query, con = engine)"
   ]
  },
  {
   "cell_type": "code",
   "execution_count": 4,
   "metadata": {},
   "outputs": [
    {
     "data": {
      "text/html": [
       "<div>\n",
       "<style scoped>\n",
       "    .dataframe tbody tr th:only-of-type {\n",
       "        vertical-align: middle;\n",
       "    }\n",
       "\n",
       "    .dataframe tbody tr th {\n",
       "        vertical-align: top;\n",
       "    }\n",
       "\n",
       "    .dataframe thead th {\n",
       "        text-align: right;\n",
       "    }\n",
       "</style>\n",
       "<table border=\"1\" class=\"dataframe\">\n",
       "  <thead>\n",
       "    <tr style=\"text-align: right;\">\n",
       "      <th></th>\n",
       "      <th>book_id</th>\n",
       "      <th>author_id</th>\n",
       "      <th>title</th>\n",
       "      <th>num_pages</th>\n",
       "      <th>publication_date</th>\n",
       "      <th>publisher_id</th>\n",
       "    </tr>\n",
       "  </thead>\n",
       "  <tbody>\n",
       "    <tr>\n",
       "      <th>0</th>\n",
       "      <td>1</td>\n",
       "      <td>546</td>\n",
       "      <td>'Salem's Lot</td>\n",
       "      <td>594</td>\n",
       "      <td>2005-11-01</td>\n",
       "      <td>93</td>\n",
       "    </tr>\n",
       "    <tr>\n",
       "      <th>1</th>\n",
       "      <td>2</td>\n",
       "      <td>465</td>\n",
       "      <td>1 000 Places to See Before You Die</td>\n",
       "      <td>992</td>\n",
       "      <td>2003-05-22</td>\n",
       "      <td>336</td>\n",
       "    </tr>\n",
       "    <tr>\n",
       "      <th>2</th>\n",
       "      <td>3</td>\n",
       "      <td>407</td>\n",
       "      <td>13 Little Blue Envelopes (Little Blue Envelope...</td>\n",
       "      <td>322</td>\n",
       "      <td>2010-12-21</td>\n",
       "      <td>135</td>\n",
       "    </tr>\n",
       "    <tr>\n",
       "      <th>3</th>\n",
       "      <td>4</td>\n",
       "      <td>82</td>\n",
       "      <td>1491: New Revelations of the Americas Before C...</td>\n",
       "      <td>541</td>\n",
       "      <td>2006-10-10</td>\n",
       "      <td>309</td>\n",
       "    </tr>\n",
       "    <tr>\n",
       "      <th>4</th>\n",
       "      <td>5</td>\n",
       "      <td>125</td>\n",
       "      <td>1776</td>\n",
       "      <td>386</td>\n",
       "      <td>2006-07-04</td>\n",
       "      <td>268</td>\n",
       "    </tr>\n",
       "  </tbody>\n",
       "</table>\n",
       "</div>"
      ],
      "text/plain": [
       "   book_id  author_id                                              title  \\\n",
       "0        1        546                                       'Salem's Lot   \n",
       "1        2        465                 1 000 Places to See Before You Die   \n",
       "2        3        407  13 Little Blue Envelopes (Little Blue Envelope...   \n",
       "3        4         82  1491: New Revelations of the Americas Before C...   \n",
       "4        5        125                                               1776   \n",
       "\n",
       "   num_pages publication_date  publisher_id  \n",
       "0        594       2005-11-01            93  \n",
       "1        992       2003-05-22           336  \n",
       "2        322       2010-12-21           135  \n",
       "3        541       2006-10-10           309  \n",
       "4        386       2006-07-04           268  "
      ]
     },
     "execution_count": 4,
     "metadata": {},
     "output_type": "execute_result"
    }
   ],
   "source": [
    "books.head()"
   ]
  },
  {
   "cell_type": "code",
   "execution_count": 5,
   "metadata": {},
   "outputs": [],
   "source": [
    "query = '''\n",
    "            SELECT COUNT(*)\n",
    "            FROM books\n",
    "        '''\n",
    "cnt_books = pd.io.sql.read_sql(query, con = engine)"
   ]
  },
  {
   "cell_type": "code",
   "execution_count": 6,
   "metadata": {},
   "outputs": [
    {
     "data": {
      "text/html": [
       "<div>\n",
       "<style scoped>\n",
       "    .dataframe tbody tr th:only-of-type {\n",
       "        vertical-align: middle;\n",
       "    }\n",
       "\n",
       "    .dataframe tbody tr th {\n",
       "        vertical-align: top;\n",
       "    }\n",
       "\n",
       "    .dataframe thead th {\n",
       "        text-align: right;\n",
       "    }\n",
       "</style>\n",
       "<table border=\"1\" class=\"dataframe\">\n",
       "  <thead>\n",
       "    <tr style=\"text-align: right;\">\n",
       "      <th></th>\n",
       "      <th>count</th>\n",
       "    </tr>\n",
       "  </thead>\n",
       "  <tbody>\n",
       "    <tr>\n",
       "      <th>0</th>\n",
       "      <td>1000</td>\n",
       "    </tr>\n",
       "  </tbody>\n",
       "</table>\n",
       "</div>"
      ],
      "text/plain": [
       "   count\n",
       "0   1000"
      ]
     },
     "execution_count": 6,
     "metadata": {},
     "output_type": "execute_result"
    }
   ],
   "source": [
    "cnt_books"
   ]
  },
  {
   "cell_type": "markdown",
   "metadata": {},
   "source": [
    "Всего `1000 книг`."
   ]
  },
  {
   "cell_type": "markdown",
   "metadata": {},
   "source": [
    "## authors"
   ]
  },
  {
   "cell_type": "code",
   "execution_count": 7,
   "metadata": {},
   "outputs": [],
   "source": [
    "query = '''\n",
    "            SELECT *\n",
    "            FROM authors\n",
    "        '''\n",
    "authors = pd.io.sql.read_sql(query, con = engine)"
   ]
  },
  {
   "cell_type": "code",
   "execution_count": 8,
   "metadata": {},
   "outputs": [
    {
     "data": {
      "text/html": [
       "<div>\n",
       "<style scoped>\n",
       "    .dataframe tbody tr th:only-of-type {\n",
       "        vertical-align: middle;\n",
       "    }\n",
       "\n",
       "    .dataframe tbody tr th {\n",
       "        vertical-align: top;\n",
       "    }\n",
       "\n",
       "    .dataframe thead th {\n",
       "        text-align: right;\n",
       "    }\n",
       "</style>\n",
       "<table border=\"1\" class=\"dataframe\">\n",
       "  <thead>\n",
       "    <tr style=\"text-align: right;\">\n",
       "      <th></th>\n",
       "      <th>author_id</th>\n",
       "      <th>author</th>\n",
       "    </tr>\n",
       "  </thead>\n",
       "  <tbody>\n",
       "    <tr>\n",
       "      <th>0</th>\n",
       "      <td>1</td>\n",
       "      <td>A.S. Byatt</td>\n",
       "    </tr>\n",
       "    <tr>\n",
       "      <th>1</th>\n",
       "      <td>2</td>\n",
       "      <td>Aesop/Laura Harris/Laura Gibbs</td>\n",
       "    </tr>\n",
       "    <tr>\n",
       "      <th>2</th>\n",
       "      <td>3</td>\n",
       "      <td>Agatha Christie</td>\n",
       "    </tr>\n",
       "    <tr>\n",
       "      <th>3</th>\n",
       "      <td>4</td>\n",
       "      <td>Alan Brennert</td>\n",
       "    </tr>\n",
       "    <tr>\n",
       "      <th>4</th>\n",
       "      <td>5</td>\n",
       "      <td>Alan Moore/David   Lloyd</td>\n",
       "    </tr>\n",
       "  </tbody>\n",
       "</table>\n",
       "</div>"
      ],
      "text/plain": [
       "   author_id                          author\n",
       "0          1                      A.S. Byatt\n",
       "1          2  Aesop/Laura Harris/Laura Gibbs\n",
       "2          3                 Agatha Christie\n",
       "3          4                   Alan Brennert\n",
       "4          5        Alan Moore/David   Lloyd"
      ]
     },
     "execution_count": 8,
     "metadata": {},
     "output_type": "execute_result"
    }
   ],
   "source": [
    "authors.head()"
   ]
  },
  {
   "cell_type": "markdown",
   "metadata": {},
   "source": [
    "## publishers"
   ]
  },
  {
   "cell_type": "code",
   "execution_count": 9,
   "metadata": {},
   "outputs": [],
   "source": [
    "query = '''\n",
    "            SELECT *\n",
    "            FROM publishers\n",
    "        '''\n",
    "publishers = pd.io.sql.read_sql(query, con = engine)"
   ]
  },
  {
   "cell_type": "code",
   "execution_count": 10,
   "metadata": {},
   "outputs": [
    {
     "data": {
      "text/html": [
       "<div>\n",
       "<style scoped>\n",
       "    .dataframe tbody tr th:only-of-type {\n",
       "        vertical-align: middle;\n",
       "    }\n",
       "\n",
       "    .dataframe tbody tr th {\n",
       "        vertical-align: top;\n",
       "    }\n",
       "\n",
       "    .dataframe thead th {\n",
       "        text-align: right;\n",
       "    }\n",
       "</style>\n",
       "<table border=\"1\" class=\"dataframe\">\n",
       "  <thead>\n",
       "    <tr style=\"text-align: right;\">\n",
       "      <th></th>\n",
       "      <th>publisher_id</th>\n",
       "      <th>publisher</th>\n",
       "    </tr>\n",
       "  </thead>\n",
       "  <tbody>\n",
       "    <tr>\n",
       "      <th>0</th>\n",
       "      <td>1</td>\n",
       "      <td>Ace</td>\n",
       "    </tr>\n",
       "    <tr>\n",
       "      <th>1</th>\n",
       "      <td>2</td>\n",
       "      <td>Ace Book</td>\n",
       "    </tr>\n",
       "    <tr>\n",
       "      <th>2</th>\n",
       "      <td>3</td>\n",
       "      <td>Ace Books</td>\n",
       "    </tr>\n",
       "    <tr>\n",
       "      <th>3</th>\n",
       "      <td>4</td>\n",
       "      <td>Ace Hardcover</td>\n",
       "    </tr>\n",
       "    <tr>\n",
       "      <th>4</th>\n",
       "      <td>5</td>\n",
       "      <td>Addison Wesley Publishing Company</td>\n",
       "    </tr>\n",
       "  </tbody>\n",
       "</table>\n",
       "</div>"
      ],
      "text/plain": [
       "   publisher_id                          publisher\n",
       "0             1                                Ace\n",
       "1             2                           Ace Book\n",
       "2             3                          Ace Books\n",
       "3             4                      Ace Hardcover\n",
       "4             5  Addison Wesley Publishing Company"
      ]
     },
     "execution_count": 10,
     "metadata": {},
     "output_type": "execute_result"
    }
   ],
   "source": [
    "publishers.head()"
   ]
  },
  {
   "cell_type": "markdown",
   "metadata": {},
   "source": [
    "## ratings"
   ]
  },
  {
   "cell_type": "code",
   "execution_count": 11,
   "metadata": {},
   "outputs": [],
   "source": [
    "query = '''\n",
    "            SELECT *\n",
    "            FROM ratings\n",
    "        '''\n",
    "ratings = pd.io.sql.read_sql(query, con = engine)"
   ]
  },
  {
   "cell_type": "code",
   "execution_count": 12,
   "metadata": {},
   "outputs": [
    {
     "data": {
      "text/html": [
       "<div>\n",
       "<style scoped>\n",
       "    .dataframe tbody tr th:only-of-type {\n",
       "        vertical-align: middle;\n",
       "    }\n",
       "\n",
       "    .dataframe tbody tr th {\n",
       "        vertical-align: top;\n",
       "    }\n",
       "\n",
       "    .dataframe thead th {\n",
       "        text-align: right;\n",
       "    }\n",
       "</style>\n",
       "<table border=\"1\" class=\"dataframe\">\n",
       "  <thead>\n",
       "    <tr style=\"text-align: right;\">\n",
       "      <th></th>\n",
       "      <th>rating_id</th>\n",
       "      <th>book_id</th>\n",
       "      <th>username</th>\n",
       "      <th>rating</th>\n",
       "    </tr>\n",
       "  </thead>\n",
       "  <tbody>\n",
       "    <tr>\n",
       "      <th>0</th>\n",
       "      <td>1</td>\n",
       "      <td>1</td>\n",
       "      <td>ryanfranco</td>\n",
       "      <td>4</td>\n",
       "    </tr>\n",
       "    <tr>\n",
       "      <th>1</th>\n",
       "      <td>2</td>\n",
       "      <td>1</td>\n",
       "      <td>grantpatricia</td>\n",
       "      <td>2</td>\n",
       "    </tr>\n",
       "    <tr>\n",
       "      <th>2</th>\n",
       "      <td>3</td>\n",
       "      <td>1</td>\n",
       "      <td>brandtandrea</td>\n",
       "      <td>5</td>\n",
       "    </tr>\n",
       "    <tr>\n",
       "      <th>3</th>\n",
       "      <td>4</td>\n",
       "      <td>2</td>\n",
       "      <td>lorichen</td>\n",
       "      <td>3</td>\n",
       "    </tr>\n",
       "    <tr>\n",
       "      <th>4</th>\n",
       "      <td>5</td>\n",
       "      <td>2</td>\n",
       "      <td>mariokeller</td>\n",
       "      <td>2</td>\n",
       "    </tr>\n",
       "  </tbody>\n",
       "</table>\n",
       "</div>"
      ],
      "text/plain": [
       "   rating_id  book_id       username  rating\n",
       "0          1        1     ryanfranco       4\n",
       "1          2        1  grantpatricia       2\n",
       "2          3        1   brandtandrea       5\n",
       "3          4        2       lorichen       3\n",
       "4          5        2    mariokeller       2"
      ]
     },
     "execution_count": 12,
     "metadata": {},
     "output_type": "execute_result"
    }
   ],
   "source": [
    "ratings.head()"
   ]
  },
  {
   "cell_type": "code",
   "execution_count": 13,
   "metadata": {},
   "outputs": [],
   "source": [
    "query = '''\n",
    "            SELECT COUNT(DISTINCT username)\n",
    "            FROM ratings\n",
    "        '''\n",
    "cnt_users = pd.io.sql.read_sql(query, con = engine)"
   ]
  },
  {
   "cell_type": "code",
   "execution_count": 14,
   "metadata": {},
   "outputs": [
    {
     "data": {
      "text/html": [
       "<div>\n",
       "<style scoped>\n",
       "    .dataframe tbody tr th:only-of-type {\n",
       "        vertical-align: middle;\n",
       "    }\n",
       "\n",
       "    .dataframe tbody tr th {\n",
       "        vertical-align: top;\n",
       "    }\n",
       "\n",
       "    .dataframe thead th {\n",
       "        text-align: right;\n",
       "    }\n",
       "</style>\n",
       "<table border=\"1\" class=\"dataframe\">\n",
       "  <thead>\n",
       "    <tr style=\"text-align: right;\">\n",
       "      <th></th>\n",
       "      <th>count</th>\n",
       "    </tr>\n",
       "  </thead>\n",
       "  <tbody>\n",
       "    <tr>\n",
       "      <th>0</th>\n",
       "      <td>160</td>\n",
       "    </tr>\n",
       "  </tbody>\n",
       "</table>\n",
       "</div>"
      ],
      "text/plain": [
       "   count\n",
       "0    160"
      ]
     },
     "execution_count": 14,
     "metadata": {},
     "output_type": "execute_result"
    }
   ],
   "source": [
    "cnt_users"
   ]
  },
  {
   "cell_type": "markdown",
   "metadata": {},
   "source": [
    "Всего `160 пользователей`."
   ]
  },
  {
   "cell_type": "code",
   "execution_count": 15,
   "metadata": {},
   "outputs": [],
   "source": [
    "query = '''\n",
    "            SELECT COUNT(DISTINCT book_id)\n",
    "            FROM ratings\n",
    "        '''\n",
    "cnt_books_with_rating = pd.io.sql.read_sql(query, con = engine)"
   ]
  },
  {
   "cell_type": "code",
   "execution_count": 16,
   "metadata": {},
   "outputs": [
    {
     "data": {
      "text/html": [
       "<div>\n",
       "<style scoped>\n",
       "    .dataframe tbody tr th:only-of-type {\n",
       "        vertical-align: middle;\n",
       "    }\n",
       "\n",
       "    .dataframe tbody tr th {\n",
       "        vertical-align: top;\n",
       "    }\n",
       "\n",
       "    .dataframe thead th {\n",
       "        text-align: right;\n",
       "    }\n",
       "</style>\n",
       "<table border=\"1\" class=\"dataframe\">\n",
       "  <thead>\n",
       "    <tr style=\"text-align: right;\">\n",
       "      <th></th>\n",
       "      <th>count</th>\n",
       "    </tr>\n",
       "  </thead>\n",
       "  <tbody>\n",
       "    <tr>\n",
       "      <th>0</th>\n",
       "      <td>1000</td>\n",
       "    </tr>\n",
       "  </tbody>\n",
       "</table>\n",
       "</div>"
      ],
      "text/plain": [
       "   count\n",
       "0   1000"
      ]
     },
     "execution_count": 16,
     "metadata": {},
     "output_type": "execute_result"
    }
   ],
   "source": [
    "cnt_books_with_rating"
   ]
  },
  {
   "cell_type": "markdown",
   "metadata": {},
   "source": [
    "Все книги с рейтингом."
   ]
  },
  {
   "cell_type": "markdown",
   "metadata": {},
   "source": [
    "## reviews"
   ]
  },
  {
   "cell_type": "code",
   "execution_count": 17,
   "metadata": {},
   "outputs": [],
   "source": [
    "query = '''\n",
    "            SELECT *\n",
    "            FROM reviews\n",
    "        '''\n",
    "reviews = pd.io.sql.read_sql(query, con = engine)"
   ]
  },
  {
   "cell_type": "code",
   "execution_count": 18,
   "metadata": {
    "scrolled": true
   },
   "outputs": [
    {
     "data": {
      "text/html": [
       "<div>\n",
       "<style scoped>\n",
       "    .dataframe tbody tr th:only-of-type {\n",
       "        vertical-align: middle;\n",
       "    }\n",
       "\n",
       "    .dataframe tbody tr th {\n",
       "        vertical-align: top;\n",
       "    }\n",
       "\n",
       "    .dataframe thead th {\n",
       "        text-align: right;\n",
       "    }\n",
       "</style>\n",
       "<table border=\"1\" class=\"dataframe\">\n",
       "  <thead>\n",
       "    <tr style=\"text-align: right;\">\n",
       "      <th></th>\n",
       "      <th>review_id</th>\n",
       "      <th>book_id</th>\n",
       "      <th>username</th>\n",
       "      <th>text</th>\n",
       "    </tr>\n",
       "  </thead>\n",
       "  <tbody>\n",
       "    <tr>\n",
       "      <th>0</th>\n",
       "      <td>1</td>\n",
       "      <td>1</td>\n",
       "      <td>brandtandrea</td>\n",
       "      <td>Mention society tell send professor analysis. ...</td>\n",
       "    </tr>\n",
       "    <tr>\n",
       "      <th>1</th>\n",
       "      <td>2</td>\n",
       "      <td>1</td>\n",
       "      <td>ryanfranco</td>\n",
       "      <td>Foot glass pretty audience hit themselves. Amo...</td>\n",
       "    </tr>\n",
       "    <tr>\n",
       "      <th>2</th>\n",
       "      <td>3</td>\n",
       "      <td>2</td>\n",
       "      <td>lorichen</td>\n",
       "      <td>Listen treat keep worry. Miss husband tax but ...</td>\n",
       "    </tr>\n",
       "    <tr>\n",
       "      <th>3</th>\n",
       "      <td>4</td>\n",
       "      <td>3</td>\n",
       "      <td>johnsonamanda</td>\n",
       "      <td>Finally month interesting blue could nature cu...</td>\n",
       "    </tr>\n",
       "    <tr>\n",
       "      <th>4</th>\n",
       "      <td>5</td>\n",
       "      <td>3</td>\n",
       "      <td>scotttamara</td>\n",
       "      <td>Nation purpose heavy give wait song will. List...</td>\n",
       "    </tr>\n",
       "  </tbody>\n",
       "</table>\n",
       "</div>"
      ],
      "text/plain": [
       "   review_id  book_id       username  \\\n",
       "0          1        1   brandtandrea   \n",
       "1          2        1     ryanfranco   \n",
       "2          3        2       lorichen   \n",
       "3          4        3  johnsonamanda   \n",
       "4          5        3    scotttamara   \n",
       "\n",
       "                                                text  \n",
       "0  Mention society tell send professor analysis. ...  \n",
       "1  Foot glass pretty audience hit themselves. Amo...  \n",
       "2  Listen treat keep worry. Miss husband tax but ...  \n",
       "3  Finally month interesting blue could nature cu...  \n",
       "4  Nation purpose heavy give wait song will. List...  "
      ]
     },
     "execution_count": 18,
     "metadata": {},
     "output_type": "execute_result"
    }
   ],
   "source": [
    "reviews.head()"
   ]
  },
  {
   "cell_type": "code",
   "execution_count": 19,
   "metadata": {},
   "outputs": [],
   "source": [
    "query = '''\n",
    "            SELECT COUNT(DISTINCT book_id)\n",
    "            FROM reviews\n",
    "        '''\n",
    "cnt_books_with_reviews = pd.io.sql.read_sql(query, con = engine)"
   ]
  },
  {
   "cell_type": "code",
   "execution_count": 20,
   "metadata": {},
   "outputs": [
    {
     "data": {
      "text/html": [
       "<div>\n",
       "<style scoped>\n",
       "    .dataframe tbody tr th:only-of-type {\n",
       "        vertical-align: middle;\n",
       "    }\n",
       "\n",
       "    .dataframe tbody tr th {\n",
       "        vertical-align: top;\n",
       "    }\n",
       "\n",
       "    .dataframe thead th {\n",
       "        text-align: right;\n",
       "    }\n",
       "</style>\n",
       "<table border=\"1\" class=\"dataframe\">\n",
       "  <thead>\n",
       "    <tr style=\"text-align: right;\">\n",
       "      <th></th>\n",
       "      <th>count</th>\n",
       "    </tr>\n",
       "  </thead>\n",
       "  <tbody>\n",
       "    <tr>\n",
       "      <th>0</th>\n",
       "      <td>994</td>\n",
       "    </tr>\n",
       "  </tbody>\n",
       "</table>\n",
       "</div>"
      ],
      "text/plain": [
       "   count\n",
       "0    994"
      ]
     },
     "execution_count": 20,
     "metadata": {},
     "output_type": "execute_result"
    }
   ],
   "source": [
    "cnt_books_with_reviews"
   ]
  },
  {
   "cell_type": "markdown",
   "metadata": {},
   "source": [
    "`994` книги из `1000` с отзывами."
   ]
  },
  {
   "cell_type": "markdown",
   "metadata": {},
   "source": [
    "# SQL-запросы"
   ]
  },
  {
   "cell_type": "markdown",
   "metadata": {},
   "source": [
    "## Посчитайте, сколько книг вышло после 1 января 2000 года"
   ]
  },
  {
   "cell_type": "code",
   "execution_count": 21,
   "metadata": {},
   "outputs": [],
   "source": [
    "query = '''\n",
    "            SELECT COUNT(*)\n",
    "            FROM books\n",
    "            WHERE publication_date > '2000-01-01'\n",
    "        '''\n",
    "books_after_1_jan_2000 = pd.io.sql.read_sql(query, con = engine)"
   ]
  },
  {
   "cell_type": "code",
   "execution_count": 22,
   "metadata": {},
   "outputs": [
    {
     "data": {
      "text/html": [
       "<div>\n",
       "<style scoped>\n",
       "    .dataframe tbody tr th:only-of-type {\n",
       "        vertical-align: middle;\n",
       "    }\n",
       "\n",
       "    .dataframe tbody tr th {\n",
       "        vertical-align: top;\n",
       "    }\n",
       "\n",
       "    .dataframe thead th {\n",
       "        text-align: right;\n",
       "    }\n",
       "</style>\n",
       "<table border=\"1\" class=\"dataframe\">\n",
       "  <thead>\n",
       "    <tr style=\"text-align: right;\">\n",
       "      <th></th>\n",
       "      <th>count</th>\n",
       "    </tr>\n",
       "  </thead>\n",
       "  <tbody>\n",
       "    <tr>\n",
       "      <th>0</th>\n",
       "      <td>819</td>\n",
       "    </tr>\n",
       "  </tbody>\n",
       "</table>\n",
       "</div>"
      ],
      "text/plain": [
       "   count\n",
       "0    819"
      ]
     },
     "execution_count": 22,
     "metadata": {},
     "output_type": "execute_result"
    }
   ],
   "source": [
    "books_after_1_jan_2000"
   ]
  },
  {
   "cell_type": "markdown",
   "metadata": {},
   "source": [
    "После `1 января 2000 года` вышло `819` книг."
   ]
  },
  {
   "cell_type": "markdown",
   "metadata": {},
   "source": [
    "## Для каждой книги посчитайте количество обзоров и среднюю оценку"
   ]
  },
  {
   "cell_type": "code",
   "execution_count": 23,
   "metadata": {},
   "outputs": [],
   "source": [
    "query = '''\n",
    "            SELECT \n",
    "                book_id, \n",
    "                title, \n",
    "                COUNT(DISTINCT review_id) AS cnt_reviews,\n",
    "                AVG(rating) AS avg_rating\n",
    "            FROM books\n",
    "            FULL JOIN reviews USING(book_id)\n",
    "            JOIN ratings USING(book_id)\n",
    "            GROUP BY book_id, title\n",
    "            ORDER BY cnt_reviews ASC \n",
    "\n",
    "        '''\n",
    "cnt_reviews_avg_rating_for_book = pd.io.sql.read_sql(query, con = engine)"
   ]
  },
  {
   "cell_type": "code",
   "execution_count": 24,
   "metadata": {},
   "outputs": [
    {
     "data": {
      "text/html": [
       "<div>\n",
       "<style scoped>\n",
       "    .dataframe tbody tr th:only-of-type {\n",
       "        vertical-align: middle;\n",
       "    }\n",
       "\n",
       "    .dataframe tbody tr th {\n",
       "        vertical-align: top;\n",
       "    }\n",
       "\n",
       "    .dataframe thead th {\n",
       "        text-align: right;\n",
       "    }\n",
       "</style>\n",
       "<table border=\"1\" class=\"dataframe\">\n",
       "  <thead>\n",
       "    <tr style=\"text-align: right;\">\n",
       "      <th></th>\n",
       "      <th>book_id</th>\n",
       "      <th>title</th>\n",
       "      <th>cnt_reviews</th>\n",
       "      <th>avg_rating</th>\n",
       "    </tr>\n",
       "  </thead>\n",
       "  <tbody>\n",
       "    <tr>\n",
       "      <th>0</th>\n",
       "      <td>83</td>\n",
       "      <td>Anne Rice's The Vampire Lestat: A Graphic Novel</td>\n",
       "      <td>0</td>\n",
       "      <td>3.666667</td>\n",
       "    </tr>\n",
       "    <tr>\n",
       "      <th>1</th>\n",
       "      <td>672</td>\n",
       "      <td>The Cat in the Hat and Other Dr. Seuss Favorites</td>\n",
       "      <td>0</td>\n",
       "      <td>5.000000</td>\n",
       "    </tr>\n",
       "    <tr>\n",
       "      <th>2</th>\n",
       "      <td>221</td>\n",
       "      <td>Essential Tales and Poems</td>\n",
       "      <td>0</td>\n",
       "      <td>4.000000</td>\n",
       "    </tr>\n",
       "    <tr>\n",
       "      <th>3</th>\n",
       "      <td>808</td>\n",
       "      <td>The Natural Way to Draw</td>\n",
       "      <td>0</td>\n",
       "      <td>3.000000</td>\n",
       "    </tr>\n",
       "    <tr>\n",
       "      <th>4</th>\n",
       "      <td>191</td>\n",
       "      <td>Disney's Beauty and the Beast (A Little Golden...</td>\n",
       "      <td>0</td>\n",
       "      <td>4.000000</td>\n",
       "    </tr>\n",
       "    <tr>\n",
       "      <th>...</th>\n",
       "      <td>...</td>\n",
       "      <td>...</td>\n",
       "      <td>...</td>\n",
       "      <td>...</td>\n",
       "    </tr>\n",
       "    <tr>\n",
       "      <th>995</th>\n",
       "      <td>733</td>\n",
       "      <td>The Giver (The Giver  #1)</td>\n",
       "      <td>6</td>\n",
       "      <td>3.750000</td>\n",
       "    </tr>\n",
       "    <tr>\n",
       "      <th>996</th>\n",
       "      <td>854</td>\n",
       "      <td>The Road</td>\n",
       "      <td>6</td>\n",
       "      <td>3.772727</td>\n",
       "    </tr>\n",
       "    <tr>\n",
       "      <th>997</th>\n",
       "      <td>695</td>\n",
       "      <td>The Curious Incident of the Dog in the Night-Time</td>\n",
       "      <td>6</td>\n",
       "      <td>4.081081</td>\n",
       "    </tr>\n",
       "    <tr>\n",
       "      <th>998</th>\n",
       "      <td>696</td>\n",
       "      <td>The Da Vinci Code (Robert Langdon  #2)</td>\n",
       "      <td>6</td>\n",
       "      <td>3.830508</td>\n",
       "    </tr>\n",
       "    <tr>\n",
       "      <th>999</th>\n",
       "      <td>948</td>\n",
       "      <td>Twilight (Twilight  #1)</td>\n",
       "      <td>7</td>\n",
       "      <td>3.662500</td>\n",
       "    </tr>\n",
       "  </tbody>\n",
       "</table>\n",
       "<p>1000 rows × 4 columns</p>\n",
       "</div>"
      ],
      "text/plain": [
       "     book_id                                              title  cnt_reviews  \\\n",
       "0         83    Anne Rice's The Vampire Lestat: A Graphic Novel            0   \n",
       "1        672   The Cat in the Hat and Other Dr. Seuss Favorites            0   \n",
       "2        221                          Essential Tales and Poems            0   \n",
       "3        808                            The Natural Way to Draw            0   \n",
       "4        191  Disney's Beauty and the Beast (A Little Golden...            0   \n",
       "..       ...                                                ...          ...   \n",
       "995      733                          The Giver (The Giver  #1)            6   \n",
       "996      854                                           The Road            6   \n",
       "997      695  The Curious Incident of the Dog in the Night-Time            6   \n",
       "998      696             The Da Vinci Code (Robert Langdon  #2)            6   \n",
       "999      948                            Twilight (Twilight  #1)            7   \n",
       "\n",
       "     avg_rating  \n",
       "0      3.666667  \n",
       "1      5.000000  \n",
       "2      4.000000  \n",
       "3      3.000000  \n",
       "4      4.000000  \n",
       "..          ...  \n",
       "995    3.750000  \n",
       "996    3.772727  \n",
       "997    4.081081  \n",
       "998    3.830508  \n",
       "999    3.662500  \n",
       "\n",
       "[1000 rows x 4 columns]"
      ]
     },
     "execution_count": 24,
     "metadata": {},
     "output_type": "execute_result"
    }
   ],
   "source": [
    "cnt_reviews_avg_rating_for_book"
   ]
  },
  {
   "cell_type": "markdown",
   "metadata": {},
   "source": [
    "Всего книг с отзывами и рейтингом - 994 из 1000.<br>\n",
    "Всего книг с рейтингом - 1000.<br>\n",
    "\n",
    "Книга с самым большим количеством обзоров - 7 - `Twilight (Twilight #1)`.<br>\n",
    "Книги с самым низким количеством обзоров - `1.0` - 36 штук.<br>\n",
    "Книги с самым высоким рейтингом - `5.0` - 43 штуки.<br>\n",
    "Книга с самым низким рейтингом - 1.5 - `Harvesting the Heart`.<br>"
   ]
  },
  {
   "cell_type": "markdown",
   "metadata": {},
   "source": [
    "## Определите издательство, которое выпустило наибольшее число книг толще 50 страниц — так вы исключите из анализа брошюры"
   ]
  },
  {
   "cell_type": "code",
   "execution_count": 25,
   "metadata": {},
   "outputs": [],
   "source": [
    "query = '''\n",
    "            SELECT \n",
    "                COUNT(book_id) AS summary, publisher\n",
    "            FROM books\n",
    "            JOIN publishers USING(publisher_id)\n",
    "            WHERE num_pages > 50\n",
    "            GROUP BY publisher\n",
    "            ORDER BY summary DESC\n",
    "\n",
    "        '''\n",
    "max_publisher_of_books = pd.io.sql.read_sql(query, con = engine)"
   ]
  },
  {
   "cell_type": "code",
   "execution_count": 26,
   "metadata": {},
   "outputs": [
    {
     "data": {
      "text/html": [
       "<div>\n",
       "<style scoped>\n",
       "    .dataframe tbody tr th:only-of-type {\n",
       "        vertical-align: middle;\n",
       "    }\n",
       "\n",
       "    .dataframe tbody tr th {\n",
       "        vertical-align: top;\n",
       "    }\n",
       "\n",
       "    .dataframe thead th {\n",
       "        text-align: right;\n",
       "    }\n",
       "</style>\n",
       "<table border=\"1\" class=\"dataframe\">\n",
       "  <thead>\n",
       "    <tr style=\"text-align: right;\">\n",
       "      <th></th>\n",
       "      <th>summary</th>\n",
       "      <th>publisher</th>\n",
       "    </tr>\n",
       "  </thead>\n",
       "  <tbody>\n",
       "    <tr>\n",
       "      <th>0</th>\n",
       "      <td>42</td>\n",
       "      <td>Penguin Books</td>\n",
       "    </tr>\n",
       "    <tr>\n",
       "      <th>1</th>\n",
       "      <td>31</td>\n",
       "      <td>Vintage</td>\n",
       "    </tr>\n",
       "    <tr>\n",
       "      <th>2</th>\n",
       "      <td>25</td>\n",
       "      <td>Grand Central Publishing</td>\n",
       "    </tr>\n",
       "    <tr>\n",
       "      <th>3</th>\n",
       "      <td>24</td>\n",
       "      <td>Penguin Classics</td>\n",
       "    </tr>\n",
       "    <tr>\n",
       "      <th>4</th>\n",
       "      <td>19</td>\n",
       "      <td>Ballantine Books</td>\n",
       "    </tr>\n",
       "    <tr>\n",
       "      <th>5</th>\n",
       "      <td>19</td>\n",
       "      <td>Bantam</td>\n",
       "    </tr>\n",
       "    <tr>\n",
       "      <th>6</th>\n",
       "      <td>17</td>\n",
       "      <td>Berkley</td>\n",
       "    </tr>\n",
       "    <tr>\n",
       "      <th>7</th>\n",
       "      <td>14</td>\n",
       "      <td>St. Martin's Press</td>\n",
       "    </tr>\n",
       "    <tr>\n",
       "      <th>8</th>\n",
       "      <td>14</td>\n",
       "      <td>Berkley Books</td>\n",
       "    </tr>\n",
       "    <tr>\n",
       "      <th>9</th>\n",
       "      <td>13</td>\n",
       "      <td>Delta</td>\n",
       "    </tr>\n",
       "  </tbody>\n",
       "</table>\n",
       "</div>"
      ],
      "text/plain": [
       "   summary                 publisher\n",
       "0       42             Penguin Books\n",
       "1       31                   Vintage\n",
       "2       25  Grand Central Publishing\n",
       "3       24          Penguin Classics\n",
       "4       19          Ballantine Books\n",
       "5       19                    Bantam\n",
       "6       17                   Berkley\n",
       "7       14        St. Martin's Press\n",
       "8       14             Berkley Books\n",
       "9       13                     Delta"
      ]
     },
     "execution_count": 26,
     "metadata": {},
     "output_type": "execute_result"
    }
   ],
   "source": [
    "max_publisher_of_books.head(10)"
   ]
  },
  {
   "cell_type": "markdown",
   "metadata": {},
   "source": [
    "Самое большое количество книг более 50 страниц выпустило издательство `Penguin Books` - `42 книги`."
   ]
  },
  {
   "cell_type": "markdown",
   "metadata": {},
   "source": [
    "## Определите автора с самой высокой средней оценкой книг — учитывайте только книги с 50 и более оценками"
   ]
  },
  {
   "cell_type": "code",
   "execution_count": 27,
   "metadata": {},
   "outputs": [],
   "source": [
    "query = '''\n",
    "            WITH books_and_rating AS (SELECT \n",
    "                                            book_id, \n",
    "                                            title, \n",
    "                                            author,\n",
    "                                            AVG(rating) AS avg_rating,\n",
    "                                            COUNT(rating_id) AS cnt_rating\n",
    "                                        FROM books\n",
    "                                        JOIN authors USING(author_id)\n",
    "                                        JOIN ratings USING(book_id)\n",
    "                                        GROUP BY book_id, author\n",
    "                                        ORDER BY avg_rating DESC\n",
    "                                        )\n",
    "            SELECT author, AVG(avg_rating) AS avg_rating_of_books_one_author\n",
    "            FROM books_and_rating\n",
    "            WHERE cnt_rating >= 50\n",
    "            GROUP BY author\n",
    "            ORDER BY avg_rating_of_books_one_author DESC\n",
    "\n",
    "        '''\n",
    "author_max_avg_rating = pd.io.sql.read_sql(query, con = engine)"
   ]
  },
  {
   "cell_type": "code",
   "execution_count": 28,
   "metadata": {},
   "outputs": [
    {
     "data": {
      "text/html": [
       "<div>\n",
       "<style scoped>\n",
       "    .dataframe tbody tr th:only-of-type {\n",
       "        vertical-align: middle;\n",
       "    }\n",
       "\n",
       "    .dataframe tbody tr th {\n",
       "        vertical-align: top;\n",
       "    }\n",
       "\n",
       "    .dataframe thead th {\n",
       "        text-align: right;\n",
       "    }\n",
       "</style>\n",
       "<table border=\"1\" class=\"dataframe\">\n",
       "  <thead>\n",
       "    <tr style=\"text-align: right;\">\n",
       "      <th></th>\n",
       "      <th>author</th>\n",
       "      <th>avg_rating_of_books_one_author</th>\n",
       "    </tr>\n",
       "  </thead>\n",
       "  <tbody>\n",
       "    <tr>\n",
       "      <th>0</th>\n",
       "      <td>J.K. Rowling/Mary GrandPré</td>\n",
       "      <td>4.283844</td>\n",
       "    </tr>\n",
       "    <tr>\n",
       "      <th>1</th>\n",
       "      <td>Markus Zusak/Cao Xuân Việt Khương</td>\n",
       "      <td>4.264151</td>\n",
       "    </tr>\n",
       "    <tr>\n",
       "      <th>2</th>\n",
       "      <td>J.R.R. Tolkien</td>\n",
       "      <td>4.258446</td>\n",
       "    </tr>\n",
       "    <tr>\n",
       "      <th>3</th>\n",
       "      <td>Louisa May Alcott</td>\n",
       "      <td>4.192308</td>\n",
       "    </tr>\n",
       "    <tr>\n",
       "      <th>4</th>\n",
       "      <td>Rick Riordan</td>\n",
       "      <td>4.080645</td>\n",
       "    </tr>\n",
       "    <tr>\n",
       "      <th>5</th>\n",
       "      <td>William Golding</td>\n",
       "      <td>3.901408</td>\n",
       "    </tr>\n",
       "    <tr>\n",
       "      <th>6</th>\n",
       "      <td>J.D. Salinger</td>\n",
       "      <td>3.825581</td>\n",
       "    </tr>\n",
       "    <tr>\n",
       "      <th>7</th>\n",
       "      <td>Paulo Coelho/Alan R. Clarke/Özdemir İnce</td>\n",
       "      <td>3.789474</td>\n",
       "    </tr>\n",
       "    <tr>\n",
       "      <th>8</th>\n",
       "      <td>William Shakespeare/Paul Werstine/Barbara A. M...</td>\n",
       "      <td>3.787879</td>\n",
       "    </tr>\n",
       "    <tr>\n",
       "      <th>9</th>\n",
       "      <td>Dan Brown</td>\n",
       "      <td>3.754540</td>\n",
       "    </tr>\n",
       "    <tr>\n",
       "      <th>10</th>\n",
       "      <td>Lois Lowry</td>\n",
       "      <td>3.750000</td>\n",
       "    </tr>\n",
       "    <tr>\n",
       "      <th>11</th>\n",
       "      <td>George Orwell/Boris Grabnar/Peter Škerl</td>\n",
       "      <td>3.729730</td>\n",
       "    </tr>\n",
       "    <tr>\n",
       "      <th>12</th>\n",
       "      <td>Stephenie Meyer</td>\n",
       "      <td>3.662500</td>\n",
       "    </tr>\n",
       "    <tr>\n",
       "      <th>13</th>\n",
       "      <td>John Steinbeck</td>\n",
       "      <td>3.622951</td>\n",
       "    </tr>\n",
       "  </tbody>\n",
       "</table>\n",
       "</div>"
      ],
      "text/plain": [
       "                                               author  \\\n",
       "0                          J.K. Rowling/Mary GrandPré   \n",
       "1                   Markus Zusak/Cao Xuân Việt Khương   \n",
       "2                                      J.R.R. Tolkien   \n",
       "3                                   Louisa May Alcott   \n",
       "4                                        Rick Riordan   \n",
       "5                                     William Golding   \n",
       "6                                       J.D. Salinger   \n",
       "7            Paulo Coelho/Alan R. Clarke/Özdemir İnce   \n",
       "8   William Shakespeare/Paul Werstine/Barbara A. M...   \n",
       "9                                           Dan Brown   \n",
       "10                                         Lois Lowry   \n",
       "11            George Orwell/Boris Grabnar/Peter Škerl   \n",
       "12                                    Stephenie Meyer   \n",
       "13                                     John Steinbeck   \n",
       "\n",
       "    avg_rating_of_books_one_author  \n",
       "0                         4.283844  \n",
       "1                         4.264151  \n",
       "2                         4.258446  \n",
       "3                         4.192308  \n",
       "4                         4.080645  \n",
       "5                         3.901408  \n",
       "6                         3.825581  \n",
       "7                         3.789474  \n",
       "8                         3.787879  \n",
       "9                         3.754540  \n",
       "10                        3.750000  \n",
       "11                        3.729730  \n",
       "12                        3.662500  \n",
       "13                        3.622951  "
      ]
     },
     "execution_count": 28,
     "metadata": {},
     "output_type": "execute_result"
    }
   ],
   "source": [
    "author_max_avg_rating"
   ]
  },
  {
   "cell_type": "markdown",
   "metadata": {},
   "source": [
    "Автор с самой высокой средней оценкой книг - `J.K. Rowling/Mary GrandPré`. Рейтинг их книг - `4.28`."
   ]
  },
  {
   "cell_type": "markdown",
   "metadata": {},
   "source": [
    "## Посчитайте среднее количество обзоров от пользователей, которые поставили больше 50 оценок"
   ]
  },
  {
   "cell_type": "code",
   "execution_count": 29,
   "metadata": {},
   "outputs": [],
   "source": [
    "query = '''\n",
    "            WITH users_cnt_rating AS (SELECT\n",
    "                                            username, \n",
    "                                            COUNT(rating_id) AS cnt_rating\n",
    "                                        FROM ratings\n",
    "                                        GROUP BY username\n",
    "                                        ORDER BY cnt_rating DESC),\n",
    "            users_cnt_reviews AS (SELECT\n",
    "                                            username, \n",
    "                                            COUNT(review_id) AS cnt_reviews\n",
    "                                        FROM reviews\n",
    "                                        GROUP BY username\n",
    "                                        ORDER BY cnt_reviews DESC)\n",
    "            SELECT ROUND(AVG(cnt_reviews), 0)\n",
    "            FROM users_cnt_rating\n",
    "            JOIN users_cnt_reviews USING(username)\n",
    "            WHERE cnt_rating > 50\n",
    "\n",
    "        '''\n",
    "avg_cnt_reviews_from_users_over_50_cnt_rating = pd.io.sql.read_sql(query, con = engine)"
   ]
  },
  {
   "cell_type": "code",
   "execution_count": 30,
   "metadata": {},
   "outputs": [
    {
     "data": {
      "text/html": [
       "<div>\n",
       "<style scoped>\n",
       "    .dataframe tbody tr th:only-of-type {\n",
       "        vertical-align: middle;\n",
       "    }\n",
       "\n",
       "    .dataframe tbody tr th {\n",
       "        vertical-align: top;\n",
       "    }\n",
       "\n",
       "    .dataframe thead th {\n",
       "        text-align: right;\n",
       "    }\n",
       "</style>\n",
       "<table border=\"1\" class=\"dataframe\">\n",
       "  <thead>\n",
       "    <tr style=\"text-align: right;\">\n",
       "      <th></th>\n",
       "      <th>round</th>\n",
       "    </tr>\n",
       "  </thead>\n",
       "  <tbody>\n",
       "    <tr>\n",
       "      <th>0</th>\n",
       "      <td>24.0</td>\n",
       "    </tr>\n",
       "  </tbody>\n",
       "</table>\n",
       "</div>"
      ],
      "text/plain": [
       "   round\n",
       "0   24.0"
      ]
     },
     "execution_count": 30,
     "metadata": {},
     "output_type": "execute_result"
    }
   ],
   "source": [
    "avg_cnt_reviews_from_users_over_50_cnt_rating"
   ]
  },
  {
   "cell_type": "markdown",
   "metadata": {},
   "source": [
    "Среднее количество обзоров от пользователей, которые поставили больше 50 оценок, - `24`."
   ]
  },
  {
   "cell_type": "markdown",
   "metadata": {},
   "source": [
    "# Общий вывод"
   ]
  },
  {
   "cell_type": "markdown",
   "metadata": {},
   "source": [
    "Всего `1000 книг`.<br>\n",
    "Всего `160 пользователей`.<br>\n",
    "\n",
    "После `1 января 2000 года` вышло `819 книг`.<br>\n",
    "\n",
    "Всего книг с отзывами и рейтингом - `994` из `1000`.<br>\n",
    "Всего книг с рейтингом - `1000`.<br>\n",
    "\n",
    "Книга с самым большим количеством обзоров - 7 - `Twilight (Twilight #1)`.<br>\n",
    "Книги с самым низким количеством обзоров - 1 - `36 штук`.<br>\n",
    "Книги с самым высоким рейтингом - `5.0` - `43 штуки`.<br>\n",
    "Книга с самым низким рейтингом - `1.5` - `Harvesting the Heart`.<br>\n",
    "                                                          \n",
    "Самое большое количество книг `более 50 страниц` выпустило издательство `Penguin Books` - `42 книги`.<br>\n",
    "                                                          \n",
    "Автор с самой высокой средней оценкой книг - `J.K. Rowling/Mary GrandPré`. Рейтинг их книг - `4.28`.<br>\n",
    "                                                          \n",
    "Среднее количество обзоров от пользователей, которые поставили больше 50 оценок, - `24`.<br>"
   ]
  }
 ],
 "metadata": {
  "ExecuteTimeLog": [
   {
    "duration": 560,
    "start_time": "2023-03-27T14:17:57.618Z"
   },
   {
    "duration": 18217,
    "start_time": "2023-03-27T14:17:58.180Z"
   },
   {
    "duration": 272,
    "start_time": "2023-03-27T14:18:16.399Z"
   },
   {
    "duration": 16,
    "start_time": "2023-03-27T14:18:16.674Z"
   },
   {
    "duration": 70,
    "start_time": "2023-03-27T14:18:16.691Z"
   },
   {
    "duration": 6,
    "start_time": "2023-03-27T14:18:16.762Z"
   },
   {
    "duration": 78,
    "start_time": "2023-03-27T14:18:16.770Z"
   },
   {
    "duration": 7,
    "start_time": "2023-03-27T14:18:16.850Z"
   },
   {
    "duration": 81,
    "start_time": "2023-03-27T14:18:16.859Z"
   },
   {
    "duration": 8,
    "start_time": "2023-03-27T14:18:16.943Z"
   },
   {
    "duration": 116,
    "start_time": "2023-03-27T14:18:16.953Z"
   },
   {
    "duration": 9,
    "start_time": "2023-03-27T14:18:17.070Z"
   },
   {
    "duration": 77,
    "start_time": "2023-03-27T14:18:17.081Z"
   },
   {
    "duration": 7,
    "start_time": "2023-03-27T14:18:17.160Z"
   },
   {
    "duration": 94,
    "start_time": "2023-03-27T14:18:17.169Z"
   },
   {
    "duration": 7,
    "start_time": "2023-03-27T14:18:17.265Z"
   },
   {
    "duration": 78,
    "start_time": "2023-03-27T14:18:17.274Z"
   },
   {
    "duration": 6,
    "start_time": "2023-03-27T14:18:17.354Z"
   },
   {
    "duration": 96,
    "start_time": "2023-03-27T14:18:17.361Z"
   },
   {
    "duration": 8,
    "start_time": "2023-03-27T14:18:17.459Z"
   },
   {
    "duration": 100,
    "start_time": "2023-03-27T14:18:17.469Z"
   },
   {
    "duration": 6,
    "start_time": "2023-03-27T14:18:17.571Z"
   },
   {
    "duration": 94,
    "start_time": "2023-03-27T14:18:17.578Z"
   },
   {
    "duration": 7,
    "start_time": "2023-03-27T14:18:17.673Z"
   },
   {
    "duration": 81,
    "start_time": "2023-03-27T14:18:17.682Z"
   },
   {
    "duration": 8,
    "start_time": "2023-03-27T14:18:17.765Z"
   },
   {
    "duration": 89,
    "start_time": "2023-03-27T14:18:17.775Z"
   },
   {
    "duration": 6,
    "start_time": "2023-03-27T14:18:17.867Z"
   },
   {
    "duration": 591,
    "start_time": "2023-03-27T14:23:51.630Z"
   },
   {
    "duration": 10458,
    "start_time": "2023-03-27T14:23:52.223Z"
   },
   {
    "duration": 256,
    "start_time": "2023-03-27T14:24:02.684Z"
   },
   {
    "duration": 16,
    "start_time": "2023-03-27T14:24:02.942Z"
   },
   {
    "duration": 79,
    "start_time": "2023-03-27T14:24:02.960Z"
   },
   {
    "duration": 6,
    "start_time": "2023-03-27T14:24:03.041Z"
   },
   {
    "duration": 77,
    "start_time": "2023-03-27T14:24:03.049Z"
   },
   {
    "duration": 7,
    "start_time": "2023-03-27T14:24:03.127Z"
   },
   {
    "duration": 108,
    "start_time": "2023-03-27T14:24:03.137Z"
   },
   {
    "duration": 7,
    "start_time": "2023-03-27T14:24:03.246Z"
   },
   {
    "duration": 115,
    "start_time": "2023-03-27T14:24:03.256Z"
   },
   {
    "duration": 11,
    "start_time": "2023-03-27T14:24:03.373Z"
   },
   {
    "duration": 86,
    "start_time": "2023-03-27T14:24:03.385Z"
   },
   {
    "duration": 6,
    "start_time": "2023-03-27T14:24:03.475Z"
   },
   {
    "duration": 95,
    "start_time": "2023-03-27T14:24:03.482Z"
   },
   {
    "duration": 8,
    "start_time": "2023-03-27T14:24:03.579Z"
   },
   {
    "duration": 76,
    "start_time": "2023-03-27T14:24:03.588Z"
   },
   {
    "duration": 6,
    "start_time": "2023-03-27T14:24:03.665Z"
   },
   {
    "duration": 91,
    "start_time": "2023-03-27T14:24:03.672Z"
   },
   {
    "duration": 9,
    "start_time": "2023-03-27T14:24:03.765Z"
   },
   {
    "duration": 76,
    "start_time": "2023-03-27T14:24:03.776Z"
   },
   {
    "duration": 6,
    "start_time": "2023-03-27T14:24:03.853Z"
   },
   {
    "duration": 79,
    "start_time": "2023-03-27T14:24:03.860Z"
   },
   {
    "duration": 8,
    "start_time": "2023-03-27T14:24:03.941Z"
   },
   {
    "duration": 89,
    "start_time": "2023-03-27T14:24:03.950Z"
   },
   {
    "duration": 7,
    "start_time": "2023-03-27T14:24:04.041Z"
   },
   {
    "duration": 75,
    "start_time": "2023-03-27T14:24:04.050Z"
   },
   {
    "duration": 6,
    "start_time": "2023-03-27T14:24:04.127Z"
   },
   {
    "duration": 625,
    "start_time": "2023-03-27T17:18:07.016Z"
   },
   {
    "duration": 14664,
    "start_time": "2023-03-27T17:18:07.644Z"
   },
   {
    "duration": 296,
    "start_time": "2023-03-27T17:18:22.310Z"
   },
   {
    "duration": 16,
    "start_time": "2023-03-27T17:18:22.608Z"
   },
   {
    "duration": 83,
    "start_time": "2023-03-27T17:18:22.626Z"
   },
   {
    "duration": 6,
    "start_time": "2023-03-27T17:18:22.711Z"
   },
   {
    "duration": 85,
    "start_time": "2023-03-27T17:18:22.719Z"
   },
   {
    "duration": 8,
    "start_time": "2023-03-27T17:18:22.806Z"
   },
   {
    "duration": 79,
    "start_time": "2023-03-27T17:18:22.815Z"
   },
   {
    "duration": 6,
    "start_time": "2023-03-27T17:18:22.897Z"
   },
   {
    "duration": 112,
    "start_time": "2023-03-27T17:18:22.905Z"
   },
   {
    "duration": 8,
    "start_time": "2023-03-27T17:18:23.019Z"
   },
   {
    "duration": 92,
    "start_time": "2023-03-27T17:18:23.029Z"
   },
   {
    "duration": 6,
    "start_time": "2023-03-27T17:18:23.123Z"
   },
   {
    "duration": 96,
    "start_time": "2023-03-27T17:18:23.131Z"
   },
   {
    "duration": 8,
    "start_time": "2023-03-27T17:18:23.229Z"
   },
   {
    "duration": 76,
    "start_time": "2023-03-27T17:18:23.239Z"
   },
   {
    "duration": 6,
    "start_time": "2023-03-27T17:18:23.318Z"
   },
   {
    "duration": 94,
    "start_time": "2023-03-27T17:18:23.326Z"
   },
   {
    "duration": 9,
    "start_time": "2023-03-27T17:18:23.422Z"
   },
   {
    "duration": 83,
    "start_time": "2023-03-27T17:18:23.433Z"
   },
   {
    "duration": 6,
    "start_time": "2023-03-27T17:18:23.517Z"
   },
   {
    "duration": 94,
    "start_time": "2023-03-27T17:18:23.524Z"
   },
   {
    "duration": 7,
    "start_time": "2023-03-27T17:18:23.620Z"
   },
   {
    "duration": 86,
    "start_time": "2023-03-27T17:18:23.629Z"
   },
   {
    "duration": 8,
    "start_time": "2023-03-27T17:18:23.717Z"
   },
   {
    "duration": 82,
    "start_time": "2023-03-27T17:18:23.727Z"
   },
   {
    "duration": 7,
    "start_time": "2023-03-27T17:18:23.812Z"
   },
   {
    "duration": 13,
    "start_time": "2023-03-27T17:18:40.922Z"
   },
   {
    "duration": 541,
    "start_time": "2023-03-27T19:51:54.000Z"
   },
   {
    "duration": 7442,
    "start_time": "2023-03-27T19:51:54.543Z"
   },
   {
    "duration": 60,
    "start_time": "2023-03-27T19:52:01.986Z"
   },
   {
    "duration": 15,
    "start_time": "2023-03-27T19:52:02.048Z"
   },
   {
    "duration": 21,
    "start_time": "2023-03-27T19:52:02.065Z"
   },
   {
    "duration": 21,
    "start_time": "2023-03-27T19:52:02.088Z"
   },
   {
    "duration": 32,
    "start_time": "2023-03-27T19:52:02.111Z"
   },
   {
    "duration": 10,
    "start_time": "2023-03-27T19:52:02.145Z"
   },
   {
    "duration": 33,
    "start_time": "2023-03-27T19:52:02.157Z"
   },
   {
    "duration": 8,
    "start_time": "2023-03-27T19:52:02.192Z"
   },
   {
    "duration": 39,
    "start_time": "2023-03-27T19:52:02.202Z"
   },
   {
    "duration": 9,
    "start_time": "2023-03-27T19:52:02.243Z"
   },
   {
    "duration": 11,
    "start_time": "2023-03-27T19:52:02.255Z"
   },
   {
    "duration": 5,
    "start_time": "2023-03-27T19:52:02.269Z"
   },
   {
    "duration": 21,
    "start_time": "2023-03-27T19:52:02.276Z"
   },
   {
    "duration": 6,
    "start_time": "2023-03-27T19:52:02.299Z"
   },
   {
    "duration": 18,
    "start_time": "2023-03-27T19:52:02.306Z"
   },
   {
    "duration": 7,
    "start_time": "2023-03-27T19:52:02.326Z"
   },
   {
    "duration": 12,
    "start_time": "2023-03-27T19:52:02.340Z"
   },
   {
    "duration": 17,
    "start_time": "2023-03-27T19:52:02.354Z"
   },
   {
    "duration": 13,
    "start_time": "2023-03-27T19:52:02.373Z"
   },
   {
    "duration": 7,
    "start_time": "2023-03-27T19:52:02.388Z"
   },
   {
    "duration": 38,
    "start_time": "2023-03-27T19:52:02.397Z"
   },
   {
    "duration": 11,
    "start_time": "2023-03-27T19:52:02.437Z"
   },
   {
    "duration": 17,
    "start_time": "2023-03-27T19:52:02.450Z"
   },
   {
    "duration": 14,
    "start_time": "2023-03-27T19:52:02.469Z"
   },
   {
    "duration": 13,
    "start_time": "2023-03-27T19:52:02.486Z"
   },
   {
    "duration": 7,
    "start_time": "2023-03-27T19:52:02.500Z"
   },
   {
    "duration": 11,
    "start_time": "2023-03-27T19:52:02.509Z"
   },
   {
    "duration": 14,
    "start_time": "2023-03-27T19:52:02.522Z"
   },
   {
    "duration": 109,
    "start_time": "2023-03-27T19:52:02.538Z"
   }
  ],
  "kernelspec": {
   "display_name": "Python 3 (ipykernel)",
   "language": "python",
   "name": "python3"
  },
  "language_info": {
   "codemirror_mode": {
    "name": "ipython",
    "version": 3
   },
   "file_extension": ".py",
   "mimetype": "text/x-python",
   "name": "python",
   "nbconvert_exporter": "python",
   "pygments_lexer": "ipython3",
   "version": "3.9.16"
  },
  "toc": {
   "base_numbering": 1,
   "nav_menu": {},
   "number_sections": true,
   "sideBar": true,
   "skip_h1_title": true,
   "title_cell": "Table of Contents",
   "title_sidebar": "Contents",
   "toc_cell": false,
   "toc_position": {},
   "toc_section_display": true,
   "toc_window_display": false
  }
 },
 "nbformat": 4,
 "nbformat_minor": 2
}
